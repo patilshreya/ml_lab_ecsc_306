{
 "cells": [
  {
   "cell_type": "code",
   "execution_count": 1,
   "metadata": {},
   "outputs": [
    {
     "name": "stdout",
     "output_type": "stream",
     "text": [
      "-2012554255\n"
     ]
    }
   ],
   "source": [
    "\n",
    "\n",
    "\n",
    "\n",
    "import tensorflow as tf\n",
    "with tf.name_scope(\"output1\"):\n",
    "    with tf.name_scope(\"x_cube\"):\n",
    "        x=298\n",
    "        a = tf.pow(x,3)\n",
    "    with tf.name_scope(\"y_cube\"):\n",
    "        y=3\n",
    "        b = tf.pow(y,3)\n",
    "\n",
    "    with tf.name_scope(\"3xy\"):\n",
    "        c = tf.multiply(3,tf.multiply(x,y))\n",
    "\n",
    "        \n",
    "    with tf.name_scope(\"x_plus_y\"):\n",
    "        d = tf.add(a,b)\n",
    "\n",
    "     \n",
    "    with tf.name_scope(\"3xy\"):\n",
    "        e = tf.multiply(c,d)\n",
    "\n",
    "           \n",
    "        \n",
    "    with tf.name_scope(\"x_cube-y_cube\"):\n",
    "        f = tf.add(a,b)\n",
    "    \n",
    "        \n",
    "    with tf.name_scope(\"solution1\"):\n",
    "        g = tf.add(d,e)\n",
    "\n",
    "     \n",
    "\n",
    "    with tf.Session() as sess:\n",
    "        writer = tf.summary.FileWriter(\"/tmp/tboard/op2\", sess.graph)\n",
    "        print(sess.run(g))\n",
    "        writer.close()\n",
    "\n",
    "\n"
   ]
  },
  {
   "cell_type": "code",
   "execution_count": null,
   "metadata": {
    "collapsed": true
   },
   "outputs": [],
   "source": []
  }
 ],
 "metadata": {
  "kernelspec": {
   "display_name": "Python 3",
   "language": "python",
   "name": "python3"
  },
  "language_info": {
   "codemirror_mode": {
    "name": "ipython",
    "version": 3
   },
   "file_extension": ".py",
   "mimetype": "text/x-python",
   "name": "python",
   "nbconvert_exporter": "python",
   "pygments_lexer": "ipython3",
   "version": "3.6.1"
  }
 },
 "nbformat": 4,
 "nbformat_minor": 2
}
